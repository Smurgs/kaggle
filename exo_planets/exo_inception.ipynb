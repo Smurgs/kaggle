{
 "cells": [
  {
   "cell_type": "code",
   "execution_count": 1,
   "metadata": {},
   "outputs": [],
   "source": [
    "# Imports\n",
    "import time\n",
    "import numpy as np\n",
    "import tensorflow as tf\n",
    "import matplotlib.pyplot as plt\n",
    "from scipy.ndimage.filters import uniform_filter1d\n",
    "from collections import namedtuple"
   ]
  },
  {
   "cell_type": "code",
   "execution_count": 2,
   "metadata": {},
   "outputs": [],
   "source": [
    "# Load data\n",
    "train = np.loadtxt('kepler_dataset/exoTrain.csv', delimiter=\",\", skiprows=1, dtype=np.float32)\n",
    "test = np.loadtxt('kepler_dataset/exoTest.csv', delimiter=\",\", skiprows=1, dtype=np.float32)"
   ]
  },
  {
   "cell_type": "code",
   "execution_count": 3,
   "metadata": {},
   "outputs": [],
   "source": [
    "# Preprocess data\n",
    "\n",
    "# Normalize all data\n",
    "train[:,1:] = (train[:,1:] - np.mean(train[:,1:], axis=1).reshape(-1,1) / np.std(train[:,1:], axis=1).reshape(-1,1))\n",
    "train[:,:1] = train[:,:1] - 1\n",
    "\n",
    "test[:,1:] = (test[:,1:] - np.mean(test[:,1:], axis=1).reshape(-1,1) / np.std(test[:,1:], axis=1).reshape(-1,1))\n",
    "test[:,:1] = test[:,:1] - 1\n",
    "\n",
    "# Augment train data\n",
    "idx_one = np.where(train[:,:1] == 1)[0]\n",
    "idx_zero = np.where(train[:,:1] == 0)[0]\n",
    "\n",
    "for _ in range(len(idx_zero) - len(idx_one)):\n",
    "    idx_source = np.random.randint(len(idx_one))\n",
    "    time_shift = np.random.randint(train.shape[1] - 1)\n",
    "    new_row = np.concatenate((train[idx_source][:1], np.roll(train[idx_source][1:], time_shift)))\n",
    "    train = np.vstack([train, np.expand_dims(new_row, 0)])\n",
    "    \n",
    "# Shuffle train data\n",
    "np.random.shuffle(train)\n",
    "\n",
    "# Add dimension\n",
    "x_train = np.expand_dims(train[:, 1:], axis=2)\n",
    "x_train = np.concatenate((x_train, uniform_filter1d(x_train, axis=1, size=200)), axis=2)\n",
    "y_train = np.expand_dims(train[:, 0].astype(np.int32), axis=1)\n",
    "\n",
    "x_test = np.expand_dims(test[:, 1:], axis=2)\n",
    "x_test = np.concatenate((x_test, uniform_filter1d(x_test, axis=1, size=200)), axis=2)\n",
    "y_test = np.expand_dims(test[:, 0].astype(np.int32), axis=1)"
   ]
  },
  {
   "cell_type": "code",
   "execution_count": 13,
   "metadata": {},
   "outputs": [],
   "source": [
    "# Create Dataset and Iterator\n",
    "batch_size = 32\n",
    "tf.reset_default_graph()\n",
    "\n",
    "# Train dataset\n",
    "x_train_placeholder = tf.placeholder(x_train.dtype, x_train.shape)\n",
    "y_train_placeholder = tf.placeholder(y_train.dtype, y_train.shape)\n",
    "train_dataset = tf.data.Dataset.from_tensor_slices((x_train_placeholder, y_train_placeholder))\n",
    "train_dataset = train_dataset.batch(batch_size)\n",
    "\n",
    "# Test dataset\n",
    "x_test_placeholder = tf.placeholder(x_test.dtype, x_test.shape)\n",
    "y_test_placeholder = tf.placeholder(y_test.dtype, y_test.shape)\n",
    "test_dataset = tf.data.Dataset.from_tensor_slices((x_test_placeholder, y_test_placeholder))\n",
    "test_dataset = test_dataset.batch(batch_size)\n",
    "# Create iterator and its initializers\n",
    "iterator = tf.data.Iterator.from_structure(train_dataset.output_types, train_dataset.output_shapes)\n",
    "next_batch = iterator.get_next()\n",
    "train_iter_init_op = {'fetches': iterator.make_initializer(train_dataset), \n",
    "                      'feed_dict': {x_train_placeholder: x_train, y_train_placeholder: y_train}}\n",
    "test_iter_init_op = {'fetches': iterator.make_initializer(test_dataset), \n",
    "                     'feed_dict': {x_test_placeholder: x_test, y_test_placeholder: y_test}}"
   ]
  },
  {
   "cell_type": "code",
   "execution_count": 14,
   "metadata": {},
   "outputs": [],
   "source": [
    "# Build graph\n",
    "def build_inception_module(name, prev):\n",
    "    xavier = tf.contrib.layers.xavier_initializer()\n",
    "    prev_last_dim = prev[0].shape[1]\n",
    "    \n",
    "    conv1_w_1_1 = tf.get_variable(name + '_w_1_1', shape=[1, prev_last_dim, 8], initializer=xavier)\n",
    "    conv1_b_1_1 = tf.get_variable(name + '_b_1_1', 8, initializer=tf.constant_initializer(0))\n",
    "\n",
    "    conv1_w_1_2 = tf.get_variable(name + '_w_1_2', shape=[1, prev_last_dim, 8], initializer=xavier)\n",
    "    conv1_b_1_2 = tf.get_variable(name + '_b_1_2', 8, initializer=tf.constant_initializer(0))\n",
    "\n",
    "    conv1_w_1_3 = tf.get_variable(name + '_w_1_3', shape=[1, prev_last_dim, 8], initializer=xavier)\n",
    "    conv1_b_1_3 = tf.get_variable(name + '_b_1_3', 8, initializer=tf.constant_initializer(0))\n",
    "\n",
    "    conv1_w_1_4 = tf.get_variable(name + '_w_1_4', shape=[1, prev_last_dim, 8], initializer=xavier)\n",
    "    conv1_b_1_4 = tf.get_variable(name + '_b_1_4', 8, initializer=tf.constant_initializer(0))\n",
    "\n",
    "    conv1_w_5 = tf.get_variable(name + '_w_5', shape=[5, 8, 16], initializer=xavier)\n",
    "    conv1_b_5 = tf.get_variable(name + '_b_5', 16, initializer=tf.constant_initializer(0))\n",
    "\n",
    "    conv1_w_11 = tf.get_variable(name + '_w_11', shape=[11, 8, 16], initializer=xavier)\n",
    "    conv1_b_11 = tf.get_variable(name + '_b_11', 16, initializer=tf.constant_initializer(0))\n",
    "    \n",
    "    one = tf.nn.bias_add(tf.nn.conv1d(prev, filters=conv1_w_1_1, stride=1, padding='SAME'), conv1_b_1_1)\n",
    "    \n",
    "    five = tf.nn.relu(tf.nn.bias_add(tf.nn.conv1d(prev, filters=conv1_w_1_2, stride=1, padding='SAME'), conv1_b_1_2))\n",
    "    five = tf.nn.bias_add(tf.nn.conv1d(five, filters=conv1_w_5, stride=1, padding='SAME'), conv1_b_5)\n",
    "    \n",
    "    eleven = tf.nn.relu(tf.nn.bias_add(tf.nn.conv1d(prev, filters=conv1_w_1_3, stride=1, padding='SAME'), conv1_b_1_3))\n",
    "    eleven = tf.nn.bias_add(tf.nn.conv1d(eleven, filters=conv1_w_11, stride=1, padding='SAME'), conv1_b_11)\n",
    "    \n",
    "    pool = tf.nn.max_pool(tf.expand_dims(prev, axis=1), ksize=[1,1,4,1], strides=[1,1,1,1], padding='SAME')\n",
    "    pool = tf.nn.bias_add(tf.nn.conv1d(tf.squeeze(pool, axis=1), filters=conv1_w_1_4, stride=1, padding='SAME'), conv1_b_1_4)\n",
    "    \n",
    "    out = tf.nn.relu(tf.concat([one, five, eleven, pool], axis=2))\n",
    "    \n",
    "    return out\n",
    "\n",
    "\n",
    "is_train = tf.placeholder(tf.bool)\n",
    "keep_prob = tf.placeholder(tf.float32)\n",
    "threshold = tf.placeholder(tf.float32)\n",
    "learning_rate = tf.placeholder(tf.float32)\n",
    "\n",
    "# Build graph\n",
    "x_batch, y_batch = next_batch\n",
    "\n",
    "model_out = build_inception_module('conv1', x_batch)\n",
    "model_out = build_inception_module('conv2', model_out)\n",
    "\n",
    "model_out = tf.contrib.layers.flatten(model_out)\n",
    "model_out = tf.nn.dropout(model_out, keep_prob)\n",
    "model_out = tf.contrib.layers.fully_connected(model_out, 64)\n",
    "model_out = tf.nn.dropout(model_out, keep_prob)\n",
    "model_out = tf.contrib.layers.fully_connected(model_out, 64)\n",
    "model_out = tf.nn.dropout(model_out, keep_prob)\n",
    "model_out = tf.contrib.layers.fully_connected(model_out, 1, activation_fn=None)\n",
    "\n",
    "loss = tf.losses.sigmoid_cross_entropy(y_batch, model_out)\n",
    "training_op = tf.train.AdadeltaOptimizer(learning_rate).minimize(loss)\n",
    "prediction = tf.nn.sigmoid(model_out)\n",
    "accuracy = tf.reduce_mean(tf.to_float(tf.equal(tf.to_int32(tf.greater(prediction, threshold)), y_batch)))"
   ]
  },
  {
   "cell_type": "code",
   "execution_count": 15,
   "metadata": {},
   "outputs": [],
   "source": [
    "Epoch_Data = namedtuple('Epoch_data', ['loss', 'accuracy', 'predictions', 'run_time'])\n",
    "\n",
    "def run_epoch(mode, lr=None, thresh=0.5, keep=0.5):\n",
    "    if mode is 'train':\n",
    "        iter_init_op = train_iter_init_op\n",
    "        batch_op = {'fetches': [loss, prediction, accuracy, training_op] + tf.get_collection(tf.GraphKeys.UPDATE_OPS), \n",
    "                    'feed_dict': {learning_rate: lr, keep_prob: keep, is_train: True, threshold: thresh}}\n",
    "        \n",
    "    elif mode is 'infer':\n",
    "        iter_init_op = train_iter_init_op\n",
    "        batch_op = {'fetches': [loss, prediction, accuracy], \n",
    "                    'feed_dict': {keep_prob: keep, is_train: False, threshold: thresh}}\n",
    "        \n",
    "    start_time = time.time()\n",
    "    losses = []\n",
    "    predictions = []\n",
    "    accs = []\n",
    "    sess.run(**iter_init_op)\n",
    "    while True:\n",
    "        try:\n",
    "            batch_outputs = sess.run(**batch_op)\n",
    "            \n",
    "            losses.append(batch_outputs[0])\n",
    "            predictions.append(batch_outputs[1])\n",
    "            accs.append(batch_outputs[2])                \n",
    "        except tf.errors.OutOfRangeError:\n",
    "            break\n",
    "    epoch_time = time.time() - start_time\n",
    "    \n",
    "    return Epoch_Data(np.mean(losses), np.mean(accs), predictions, epoch_time)"
   ]
  },
  {
   "cell_type": "code",
   "execution_count": 21,
   "metadata": {},
   "outputs": [
    {
     "name": "stdout",
     "output_type": "stream",
     "text": [
      "Epoch 01\tDuration: 54s\tTrain accuracy: 0.9015\tTrain loss: 0.3019\tTest accuracy: 0.9158\n",
      "Epoch 02\tDuration: 54s\tTrain accuracy: 0.9012\tTrain loss: 0.2886\tTest accuracy: 0.9166\n",
      "Epoch 03\tDuration: 54s\tTrain accuracy: 0.9007\tTrain loss: 0.4700\tTest accuracy: 0.9170\n",
      "Epoch 04\tDuration: 54s\tTrain accuracy: 0.9023\tTrain loss: 0.3233\tTest accuracy: 0.9162\n",
      "Epoch 05\tDuration: 54s\tTrain accuracy: 0.9011\tTrain loss: 0.3388\tTest accuracy: 0.9157\n",
      "Epoch 06\tDuration: 54s\tTrain accuracy: 0.9021\tTrain loss: 0.5598\tTest accuracy: 0.9158\n",
      "Epoch 07\tDuration: 54s\tTrain accuracy: 0.9027\tTrain loss: 0.3630\tTest accuracy: 0.9159\n",
      "Epoch 08\tDuration: 54s\tTrain accuracy: 0.9012\tTrain loss: 0.3497\tTest accuracy: 0.9163\n",
      "Epoch 09\tDuration: 54s\tTrain accuracy: 0.9034\tTrain loss: 0.3226\tTest accuracy: 0.9166\n",
      "Epoch 10\tDuration: 54s\tTrain accuracy: 0.9027\tTrain loss: 0.5392\tTest accuracy: 0.9161\n"
     ]
    }
   ],
   "source": [
    "# Train model\n",
    "#sess = tf.Session()\n",
    "#sess.run(tf.global_variables_initializer())\n",
    "for epoch in range(10):\n",
    "    train_d = run_epoch('train', lr=0.001, keep=0.8)\n",
    "    test_d = run_epoch('infer', keep=1.0) \n",
    "    \n",
    "    printables = (epoch+1, train_d.run_time+test_d.run_time, train_d.accuracy, train_d.loss, test_d.accuracy)\n",
    "    print (\"Epoch %02i\\tDuration: %02is\\tTrain accuracy: %.4f\\tTrain loss: %.4f\\tTest accuracy: %.4f\" % printables) \n",
    "    "
   ]
  },
  {
   "cell_type": "code",
   "execution_count": 83,
   "metadata": {},
   "outputs": [
    {
     "data": {
      "image/png": "[encoded data removed]",
      "text/plain": [
       "<matplotlib.figure.Figure at 0x2aee0e8f9c18>"
      ]
     },
     "metadata": {},
     "output_type": "display_data"
    },
    {
     "data": {
      "image/png": "[encoded data removed]",
      "text/plain": [
       "<matplotlib.figure.Figure at 0x2aee060ef5f8>"
      ]
     },
     "metadata": {},
     "output_type": "display_data"
    },
    {
     "name": "stdout",
     "output_type": "stream",
     "text": [
      "75\n"
     ]
    }
   ],
   "source": [
    "train_d = run_epoch('infer', keep=1.0)\n",
    "predictions = np.concatenate(train_d.predictions)\n",
    "non_idx = np.where(y_train[:,0] < 0.5)[0]\n",
    "yes_idx = np.where(y_train[:,0] >= 0.5)[0]\n",
    "plt.plot([predictions[i] for i in yes_idx], 'bo')\n",
    "plt.show()\n",
    "plt.plot([predictions[i] for i in non_idx], 'ro')\n",
    "plt.show()\n",
    "print (len(np.where(predictions == 0)[0]))"
   ]
  },
  {
   "cell_type": "code",
   "execution_count": 8,
   "metadata": {},
   "outputs": [
    {
     "name": "stdout",
     "output_type": "stream",
     "text": [
      "Epoch 01\tDuration: 02s\tTrain accuracy: 0.6105\tTrain loss: 0.9370\tTest accuracy: 0.9913\n",
      "Epoch 02\tDuration: 02s\tTrain accuracy: 0.6999\tTrain loss: 0.6880\tTest accuracy: 0.9913\n",
      "Epoch 03\tDuration: 02s\tTrain accuracy: 0.8213\tTrain loss: 0.5160\tTest accuracy: 0.9913\n",
      "Epoch 04\tDuration: 02s\tTrain accuracy: 0.8749\tTrain loss: 0.4271\tTest accuracy: 0.9913\n",
      "Epoch 05\tDuration: 02s\tTrain accuracy: 0.8928\tTrain loss: 0.3848\tTest accuracy: 0.9913\n",
      "Epoch 06\tDuration: 02s\tTrain accuracy: 0.9135\tTrain loss: 0.3564\tTest accuracy: 0.9913\n",
      "Epoch 07\tDuration: 02s\tTrain accuracy: 0.9262\tTrain loss: 0.3270\tTest accuracy: 0.9913\n",
      "Epoch 08\tDuration: 02s\tTrain accuracy: 0.9366\tTrain loss: 0.3066\tTest accuracy: 0.9913\n",
      "Epoch 09\tDuration: 02s\tTrain accuracy: 0.9434\tTrain loss: 0.3001\tTest accuracy: 0.9913\n",
      "Epoch 10\tDuration: 02s\tTrain accuracy: 0.9458\tTrain loss: 0.2884\tTest accuracy: 0.9913\n"
     ]
    }
   ],
   "source": [
    "# Train model\n",
    "sess = tf.Session()\n",
    "sess.run(tf.global_variables_initializer())\n",
    "summary_writer = tf.summary.FileWriter('logs', sess.graph)\n",
    "merged_summaries = tf.summary.merge_all()\n",
    "    \n",
    "train_accs = []\n",
    "test_accs = []\n",
    "for epoch in range(10):\n",
    "    epoch_start_time = time.time()\n",
    "    epoch_train_accs = []\n",
    "    epoch_test_accs = []\n",
    "    epoch_losses = []\n",
    "        \n",
    "    # train for epoch\n",
    "    sess.run(**train_iter_init_op)\n",
    "    while True:\n",
    "        try:\n",
    "            train_loss, _, predicted, train_batch_acc, summary = sess.run([loss, \n",
    "                                                                           training_op, \n",
    "                                                                           prediction, \n",
    "                                                                           accuracy,\n",
    "                                                                           merged_summaries], \n",
    "                                                                          feed_dict={learning_rate: 10,\n",
    "                                                                                     keep_prob: 0.5,\n",
    "                                                                                     is_train: True})\n",
    "            epoch_train_accs.append(train_batch_acc)\n",
    "            epoch_losses.append(train_loss)\n",
    "        except tf.errors.OutOfRangeError:\n",
    "            break\n",
    "    train_accs.append(np.mean(epoch_train_accs))\n",
    "    summary_writer.add_summary(summary, epoch)\n",
    "    \n",
    "    \n",
    "        \n",
    "    # test after training\n",
    "    sess.run(**test_iter_init_op)\n",
    "    while True:\n",
    "        try:\n",
    "            test_batch_acc = sess.run([accuracy], feed_dict={keep_prob: 1.0,\n",
    "                                                             is_train: False})\n",
    "            epoch_test_accs.append(test_batch_acc)\n",
    "        except tf.errors.OutOfRangeError:\n",
    "            break\n",
    "    test_accs.append(np.mean(epoch_test_accs))\n",
    "        \n",
    "    epoch_time = time.time() - epoch_start_time\n",
    "    printables = (epoch+1, epoch_time, np.mean(epoch_train_accs), np.mean(epoch_losses), np.mean(epoch_test_accs))\n",
    "    print (\"Epoch %02i\\tDuration: %02is\\tTrain accuracy: %.4f\\tTrain loss: %.4f\\tTest accuracy: %.4f\" % printables) "
   ]
  },
  {
   "cell_type": "code",
   "execution_count": 7,
   "metadata": {},
   "outputs": [
    {
     "data": {
      "image/png": "[encoded data removed]",
      "text/plain": [
       "<matplotlib.figure.Figure at 0x2ac2bb8fa898>"
      ]
     },
     "metadata": {},
     "output_type": "display_data"
    }
   ],
   "source": [
    "plt.plot(train_accs)\n",
    "plt.plot(test_accs)\n",
    "plt.legend(['train', 'test'], loc='lower right')\n",
    "plt.ylabel('Accuracy')\n",
    "plt.xlabel('Epochs')\n",
    "plt.show()"
   ]
  },
  {
   "cell_type": "code",
   "execution_count": 33,
   "metadata": {},
   "outputs": [
    {
     "data": {
      "image/png": "[encoded data removed]",
      "text/plain": [
       "<matplotlib.figure.Figure at 0x2ad9fcaaf668>"
      ]
     },
     "metadata": {},
     "output_type": "display_data"
    }
   ],
   "source": [
    "labels = []\n",
    "for data, label in train_plots:\n",
    "    if label is '5' or label is '10' or label is '25':\n",
    "        plt.plot(data)\n",
    "        labels.append(label)\n",
    "    \n",
    "plt.legend(labels, loc='lower right')\n",
    "plt.show()\n"
   ]
  },
  {
   "cell_type": "code",
   "execution_count": 25,
   "metadata": {},
   "outputs": [
    {
     "data": {
      "text/plain": [
       "[]"
      ]
     },
     "execution_count": 25,
     "metadata": {},
     "output_type": "execute_result"
    }
   ],
   "source": [
    "uo = tf.get_collection(tf.GraphKeys.REGULARIZATION_LOSSES)\n",
    "uo"
   ]
  },
  {
   "cell_type": "code",
   "execution_count": 20,
   "metadata": {},
   "outputs": [
    {
     "data": {
      "text/plain": [
       "1"
      ]
     },
     "execution_count": 20,
     "metadata": {},
     "output_type": "execute_result"
    }
   ],
   "source": [
    "len(train_plots)"
   ]
  },
  {
   "cell_type": "code",
   "execution_count": 24,
   "metadata": {},
   "outputs": [
    {
     "name": "stdout",
     "output_type": "stream",
     "text": [
      "[1]\n"
     ]
    },
    {
     "data": {
      "image/png": "[encoded data removed]",
      "text/plain": [
       "<matplotlib.figure.Figure at 0x2aee096d0e48>"
      ]
     },
     "metadata": {},
     "output_type": "display_data"
    }
   ],
   "source": [
    "index = 2\n",
    "print (y_test[index])\n",
    "plt.plot(x_test[index])\n",
    "plt.show()"
   ]
  },
  {
   "cell_type": "code",
   "execution_count": null,
   "metadata": {},
   "outputs": [],
   "source": []
  }
 ],
 "metadata": {
  "kernelspec": {
   "display_name": "Python 3",
   "language": "python",
   "name": "python3"
  },
  "language_info": {
   "codemirror_mode": {
    "name": "ipython",
    "version": 3
   },
   "file_extension": ".py",
   "mimetype": "text/x-python",
   "name": "python",
   "nbconvert_exporter": "python",
   "pygments_lexer": "ipython3",
   "version": "3.5.2"
  }
 },
 "nbformat": 4,
 "nbformat_minor": 1
}
